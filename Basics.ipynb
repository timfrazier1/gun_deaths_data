{
 "cells": [
  {
   "cell_type": "code",
   "execution_count": 28,
   "metadata": {},
   "outputs": [
    {
     "name": "stdout",
     "output_type": "stream",
     "text": [
      "[['', 'year', 'month', 'intent', 'police', 'sex', 'age', 'race', 'hispanic', 'place', 'education']]\n"
     ]
    }
   ],
   "source": [
    "import csv\n",
    "f = open(\"guns.csv\", \"r\")\n",
    "csvreader = csv.reader(f)\n",
    "data = list(csvreader)\n",
    "headers = data[:1]\n",
    "data = data[1:]\n",
    "print(headers)"
   ]
  },
  {
   "cell_type": "code",
   "execution_count": 29,
   "metadata": {},
   "outputs": [
    {
     "name": "stdout",
     "output_type": "stream",
     "text": [
      "[['1', '2012', '01', 'Suicide', '0', 'M', '34', 'Asian/Pacific Islander', '100', 'Home', '4'], ['2', '2012', '01', 'Suicide', '0', 'F', '21', 'White', '100', 'Street', '3'], ['3', '2012', '01', 'Suicide', '0', 'M', '60', 'White', '100', 'Other specified', '4'], ['4', '2012', '02', 'Suicide', '0', 'M', '64', 'White', '100', 'Home', '4'], ['5', '2012', '02', 'Suicide', '0', 'M', '31', 'White', '100', 'Other specified', '2']]\n"
     ]
    }
   ],
   "source": [
    "print(data[:5])"
   ]
  },
  {
   "cell_type": "code",
   "execution_count": 30,
   "metadata": {},
   "outputs": [
    {
     "name": "stdout",
     "output_type": "stream",
     "text": [
      "{'2014': 33599, '2013': 33636, '2012': 33563}\n"
     ]
    }
   ],
   "source": [
    "years = [row[1] for row in data]\n",
    "year_counts = {}\n",
    "for year in years:\n",
    "    if year in year_counts:\n",
    "        year_counts[year] += 1\n",
    "    else:\n",
    "        year_counts[year] = 1\n",
    "print(year_counts)"
   ]
  },
  {
   "cell_type": "code",
   "execution_count": 31,
   "metadata": {},
   "outputs": [
    {
     "name": "stdout",
     "output_type": "stream",
     "text": [
      "[datetime.datetime(2012, 1, 1, 0, 0), datetime.datetime(2012, 1, 1, 0, 0), datetime.datetime(2012, 1, 1, 0, 0), datetime.datetime(2012, 2, 1, 0, 0), datetime.datetime(2012, 2, 1, 0, 0)]\n"
     ]
    }
   ],
   "source": [
    "import datetime\n",
    "dates = [datetime.datetime(year=int(row[1]), month=int(row[2]), day=1) for row in data]\n",
    "print(dates[:5])"
   ]
  },
  {
   "cell_type": "code",
   "execution_count": 32,
   "metadata": {},
   "outputs": [
    {
     "name": "stdout",
     "output_type": "stream",
     "text": [
      "3079\n",
      "2013-07-01 00:00:00\n",
      "2357\n",
      "2012-02-01 00:00:00\n"
     ]
    }
   ],
   "source": [
    "date_counts = {}\n",
    "for date in dates:\n",
    "    if date in date_counts:\n",
    "        date_counts[date] += 1\n",
    "    else:\n",
    "        date_counts[date] = 1\n",
    "\n",
    "highest_deaths = 0\n",
    "lowest_deaths = 5000\n",
    "for date, value in date_counts.items():\n",
    "    if int(value) > highest_deaths:\n",
    "        highest_deaths = value\n",
    "        highest_date = date\n",
    "    elif int(value) < lowest_deaths:\n",
    "        lowest_deaths = value\n",
    "        lowest_date = date\n",
    "print(highest_deaths)\n",
    "print(highest_date)\n",
    "\n",
    "print(lowest_deaths)\n",
    "print(lowest_date)"
   ]
  },
  {
   "cell_type": "code",
   "execution_count": 89,
   "metadata": {},
   "outputs": [
    {
     "name": "stdout",
     "output_type": "stream",
     "text": [
      "{'M': 86349, 'F': 14449}\n",
      "{'Undetermined': 807, 'Homicide': 35176, 'Suicide': 63175, 'Accidental': 1639, 'NA': 1}\n",
      "{'Farm': 470, 'NA': 1384, 'Other unspecified': 8867, 'Industrial/construction': 248, 'Trade/service area': 3439, 'Street': 11151, 'School/instiution': 671, 'Home': 60486, 'Other specified': 13751, 'Sports': 128, 'Residential institution': 203}\n",
      "{'NA': 53, '1': 21823, '3': 21680, '2': 42927, '5': 1369, '4': 12946}\n"
     ]
    }
   ],
   "source": [
    "def column_counts(column):\n",
    "    column_count_dict = {}\n",
    "    for row in data:\n",
    "        if row[column] in column_count_dict:\n",
    "            column_count_dict[row[column]] += 1\n",
    "        else:\n",
    "            column_count_dict[row[column]] = 1\n",
    "    return column_count_dict\n",
    "        \n",
    "print(column_counts(5))\n",
    "print(column_counts(3))\n",
    "print(column_counts(9))\n",
    "print(column_counts(10))"
   ]
  },
  {
   "cell_type": "code",
   "execution_count": 34,
   "metadata": {},
   "outputs": [
    {
     "name": "stdout",
     "output_type": "stream",
     "text": [
      "{'Native American/Native Alaskan': 917, 'Black': 23296, 'White': 66237, 'Asian/Pacific Islander': 1326, 'Hispanic': 9022}\n"
     ]
    }
   ],
   "source": [
    "race_counts = {}\n",
    "for row in data:\n",
    "    if row[7] in race_counts:\n",
    "        race_counts[row[7]] += 1\n",
    "    else:\n",
    "        race_counts[row[7]] = 1\n",
    "\n",
    "print(race_counts)"
   ]
  },
  {
   "cell_type": "markdown",
   "metadata": {},
   "source": [
    "# Interesting Observations\n",
    "\n",
    "**Males much more likely to die in gun death**\n",
    "\n",
    "**Blacks and Hispanics seem more likely to die compared to population percentages, but need population info to verify**\n",
    "\n",
    "** Deaths seem to be generally higher in the summer than the winter**"
   ]
  },
  {
   "cell_type": "code",
   "execution_count": 35,
   "metadata": {},
   "outputs": [
    {
     "name": "stdout",
     "output_type": "stream",
     "text": [
      "[['Id', 'Year', 'Id', 'Sex', 'Id', 'Hispanic Origin', 'Id', 'Id2', 'Geography', 'Total', 'Race Alone - White', 'Race Alone - Hispanic', 'Race Alone - Black or African American', 'Race Alone - American Indian and Alaska Native', 'Race Alone - Asian', 'Race Alone - Native Hawaiian and Other Pacific Islander', 'Two or More Races'], ['cen42010', 'April 1, 2010 Census', 'totsex', 'Both Sexes', 'tothisp', 'Total', '0100000US', '', 'United States', '308745538', '197318956', '44618105', '40250635', '3739506', '15159516', '674625', '6984195']]\n"
     ]
    }
   ],
   "source": [
    "file2 = open(\"census.csv\", \"r\")\n",
    "file2_reader = csv.reader(file2)\n",
    "census = list(file2_reader)\n",
    "print(census)"
   ]
  },
  {
   "cell_type": "code",
   "execution_count": 53,
   "metadata": {},
   "outputs": [
    {
     "name": "stdout",
     "output_type": "stream",
     "text": [
      "{'Native American/Native Alaskan': 24.521955573811088, 'Asian/Pacific Islander': 8.374309664161762, 'White': 33.56849303419181, 'Black': 57.8773477735196, 'Hispanic': 20.220491210910907}\n"
     ]
    }
   ],
   "source": [
    "mapping = {\n",
    "    \"Asian/Pacific Islander\": 15159516 + 674625,\n",
    "    \"Black\": 40250635,\n",
    "    \"Native American/Native Alaskan\": 3739506,\n",
    "    \"Hispanic\": 44618105,\n",
    "    \"White\": 197318956\n",
    "}\n",
    "\n",
    "race_per_hundredk = {}\n",
    "for each in race_counts:\n",
    "    race_per_hundredk[each] = float(race_counts[each]) / float(mapping[each]) * 100000\n",
    "print(race_per_hundredk)"
   ]
  },
  {
   "cell_type": "code",
   "execution_count": 56,
   "metadata": {},
   "outputs": [
    {
     "name": "stdout",
     "output_type": "stream",
     "text": [
      "{'Native American/Native Alaskan': 326, 'Black': 19510, 'White': 9147, 'Asian/Pacific Islander': 559, 'Hispanic': 5634}\n"
     ]
    }
   ],
   "source": [
    "intents = [row[3] for row in data]\n",
    "races = [row[7] for row in data]\n",
    "\n",
    "homicide_race_counts = {}\n",
    "for i, race in enumerate(races):\n",
    "    if intents[i] == \"Homicide\":\n",
    "        if races[i] in homicide_race_counts:\n",
    "            homicide_race_counts[races[i]] += 1\n",
    "        else:\n",
    "            homicide_race_counts[races[i]] = 1\n",
    "        \n",
    "print(homicide_race_counts)"
   ]
  },
  {
   "cell_type": "code",
   "execution_count": 57,
   "metadata": {},
   "outputs": [
    {
     "name": "stdout",
     "output_type": "stream",
     "text": [
      "{'Native American/Native Alaskan': 8.717729026240365, 'Black': 48.471284987180944, 'White': 4.6356417981453335, 'Asian/Pacific Islander': 3.530346230970155, 'Hispanic': 12.627161104219914}\n"
     ]
    }
   ],
   "source": [
    "for each in homicide_race_counts:\n",
    "    homicide_race_counts[each] = float(homicide_race_counts[each]) / float(mapping[each]) * 100000\n",
    "\n",
    "print(homicide_race_counts)"
   ]
  },
  {
   "cell_type": "markdown",
   "metadata": {},
   "source": [
    "## Interesting Notes\n",
    "\n",
    "*Quite a few more Homicide deaths in the Black race per 100K populants than any other race.*\n",
    "\n",
    "**Homicide Deaths per 100K populants:**\n",
    "- Black: 48.5\n",
    "- Hispanic: 12.6\n",
    "- Native American/Alaskan: 8.7\n",
    "- White: 4.6\n",
    "- Asian/Pacific Islander: 3.5\n",
    "\n",
    "**For follow up: **\n",
    "- Need to investigate Police correlation with race\n",
    "- Need to investigate place and intent correlation\n",
    "\n",
    "**Suggested investigation: **\n",
    "- Figure out the link, if any, between month and homicide rate.\n",
    "- Explore the homicide rate by gender.\n",
    "- Explore the rates of other intents, like Accidental, by gender and race.\n",
    "- Find out if gun death rates correlate to location and education."
   ]
  },
  {
   "cell_type": "code",
   "execution_count": 39,
   "metadata": {},
   "outputs": [
    {
     "name": "stdout",
     "output_type": "stream",
     "text": [
      "1402\n"
     ]
    }
   ],
   "source": [
    "police_involved_data = [row for row in data if int(row[4]) == 1]\n",
    "\n",
    "print(len(police_involved_data))"
   ]
  },
  {
   "cell_type": "markdown",
   "metadata": {},
   "source": [
    "### Not as much police to race correlation as I would have thought"
   ]
  },
  {
   "cell_type": "code",
   "execution_count": 62,
   "metadata": {},
   "outputs": [
    {
     "name": "stdout",
     "output_type": "stream",
     "text": [
      "{'Native American/Native Alaskan': 25, 'Hispanic': 282, 'White': 709, 'Asian/Pacific Islander': 30, 'Black': 356}\n",
      "{'Native American/Native Alaskan': 66.85375020122979, 'Hispanic': 63.20304280067475, 'White': 35.93167196769478, 'Asian/Pacific Islander': 18.94640195511711, 'Black': 88.44580961269307}\n"
     ]
    }
   ],
   "source": [
    "police_race_counts = {}\n",
    "for row in police_involved_data:\n",
    "    if row[7] in police_race_counts:\n",
    "        police_race_counts[row[7]] += 1\n",
    "    else:\n",
    "        police_race_counts[row[7]] = 1\n",
    "\n",
    "print(police_race_counts)\n",
    "\n",
    "police_race_counts_per100k = {}\n",
    "for each in police_race_counts:\n",
    "    police_race_counts_per100k[each] = float(police_race_counts[each]) / float(mapping[each]) * 10000000\n",
    "\n",
    "print(police_race_counts_per100k)"
   ]
  },
  {
   "cell_type": "markdown",
   "metadata": {},
   "source": [
    "### Let's see about Homicide rate by gender\n",
    "It would appear that males are much more involved in gun deaths across all intents. \n",
    "- Suicide and Accidental are slightly more skewed to males than Homicide"
   ]
  },
  {
   "cell_type": "code",
   "execution_count": 83,
   "metadata": {},
   "outputs": [
    {
     "name": "stdout",
     "output_type": "stream",
     "text": [
      "{'M': 29803, 'Intent': 'Homicide', 'ratio': 5.546808114647311, 'F': 5373}\n",
      "{'M': 1421, 'Intent': 'Accidental', 'ratio': 6.518348623853211, 'F': 218}\n",
      "{'M': 54486, 'Intent': 'Suicide', 'ratio': 6.270687075612844, 'F': 8689}\n",
      "{'M': 638, 'Intent': 'Undetermined', 'ratio': 3.775147928994083, 'F': 169}\n"
     ]
    }
   ],
   "source": [
    "intents = [row[3] for row in data]\n",
    "genders = [row[5] for row in data]\n",
    "\n",
    "def intent_by_gender(intent, intents, genders):\n",
    "    intent_by_gender_counts = {\"Intent\": intent}\n",
    "    for i, gender in enumerate(genders):\n",
    "        if intents[i] == intent:\n",
    "            if genders[i] in intent_by_gender_counts:\n",
    "                intent_by_gender_counts[genders[i]] += 1\n",
    "            else:\n",
    "                intent_by_gender_counts[genders[i]] = 1\n",
    "    intent_by_gender_counts[\"ratio\"] = float(intent_by_gender_counts[\"M\"])/float(intent_by_gender_counts[\"F\"])\n",
    "    return intent_by_gender_counts\n",
    "        \n",
    "homicide_by_gender = intent_by_gender(\"Homicide\", intents, genders)\n",
    "print(homicide_by_gender)\n",
    "print(intent_by_gender(\"Accidental\", intents, genders))\n",
    "print(intent_by_gender(\"Suicide\", intents, genders))\n",
    "print(intent_by_gender(\"Undetermined\", intents, genders))"
   ]
  },
  {
   "cell_type": "code",
   "execution_count": null,
   "metadata": {},
   "outputs": [],
   "source": []
  }
 ],
 "metadata": {
  "kernelspec": {
   "display_name": "Python 2",
   "language": "python",
   "name": "python2"
  },
  "language_info": {
   "codemirror_mode": {
    "name": "ipython",
    "version": 2
   },
   "file_extension": ".py",
   "mimetype": "text/x-python",
   "name": "python",
   "nbconvert_exporter": "python",
   "pygments_lexer": "ipython2",
   "version": "2.7.14"
  }
 },
 "nbformat": 4,
 "nbformat_minor": 1
}
